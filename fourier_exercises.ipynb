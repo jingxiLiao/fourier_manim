{
 "cells": [
  {
   "cell_type": "markdown",
   "id": "445ae3b3",
   "metadata": {},
   "source": [
    "**傅立叶级数可视化实验**\n",
    "\n",
    "本实验分为两大部分，先解释为什么傅立叶级数可以绘制任意曲线，然后讲述实现代码。"
   ]
  },
  {
   "cell_type": "markdown",
   "id": "9007f3ca",
   "metadata": {},
   "source": [
    "我们先看看傅里叶级数公式\n",
    "\n",
    "\n",
    "$$f(t)=\\frac{a_{0}}{2}+\\sum_{n=1}^{\\infty}\\left(a_{n} \\cos \\frac{n \\pi t}{l}+b_{n} \\sin \\frac{n \\pi t}{l}\\right) $$\n",
    "\n",
    "其中$f(x)$是以$2l$为周期的函数，\n",
    "\n",
    "余弦系数$a_{0}$:\n",
    "$$a_{n}=\\frac{1}{l} \\int_{0}^{2 l} f(t) \\cos \\frac{n \\pi t}{l} d t(n=0,1,2 \\ldots)$$\n",
    "\n",
    "正弦系数$b_{n}$:\n",
    "$$b_{n}=\\frac{1}{l} \\int_{0}^{2 l} f(t) \\sin \\frac{n \\pi t}{l} d t(n=1,2,3 \\ldots)$$\n",
    "可这个公式过于复杂，而且不能从直观上看出傅里叶公式的奥妙之处，因此我们换种方式，用欧拉公式去化简它，而傅里叶级数的精髓也在这里。但是要引入欧拉公式之前，要从虚数说起。\n"
   ]
  },
  {
   "cell_type": "markdown",
   "id": "b502ab8d",
   "metadata": {},
   "source": [
    "\n",
    "**一，虚数的几何意义**\n",
    "\n",
    "\n",
    "虚数${i}$究竟代表什么意思呢，为什么$i^{2}=-1$会等于负数呢。\n",
    "\n",
    "我们都知道虚数含义代表着旋转：\n",
    "\n",
    "假如一根数轴上有一个点$B(+1)$，如果我们对这根数轴正半部分做两次逆时针旋转，那么 $B$就会变成$B^{\\prime}(-1)$:\n",
    "\n"
   ]
  },
  {
   "cell_type": "markdown",
   "id": "b37db408",
   "metadata": {},
   "source": [
    "![001](./001.png)"
   ]
  },
  {
   "cell_type": "markdown",
   "id": "ee9d30c5",
   "metadata": {},
   "source": [
    "这样可以说：\n",
    "\n",
    " $$(+1) *\\left(\\text { 旋转 } 90^{\\circ}\\right) *\\left(\\text { 旋转 } 90^{\\circ}\\right)=-1$$\n",
    "\n",
    "如果把逆时针旋转$90^{\\circ}$用$i$来表示，那么上式就是： \n",
    "\n",
    "也就是： \n",
    "\n",
    "虚数代表一个旋转量，也就是说，只要看到虚数，就应该想到旋转。\n",
    "$$1*i*i=-1$$\n",
    "也就是：\n",
    "$$i^{2}=-1$$\n",
    "也就是说，虚数代表一个旋转量。"
   ]
  },
  {
   "cell_type": "markdown",
   "id": "101995c4",
   "metadata": {},
   "source": [
    "**二，复数的几何意义**\n",
    "\n",
    "进一步拓宽到复数领域，如果把上图中的纵轴表示为虚数轴，横轴代表实数轴，那么任何一个复数$a+bi$都能在上述坐标轴中找到唯一的坐标，这样能够方便我们计算向量的旋转问题。\n",
    "\n",
    "\n",
    "例如如果一个复数$3+2i$,如果我们想将它的方向逆时针旋转$45^{\\circ}$那么只需要将其乘以一个$45^{\\circ}$的复数$1+i$即可： \n",
    "新的方向就是$1+5i$"
   ]
  },
  {
   "cell_type": "markdown",
   "id": "eb0c07c0",
   "metadata": {},
   "source": [
    "![002](./002.png)"
   ]
  },
  {
   "cell_type": "markdown",
   "id": "31f2be61",
   "metadata": {},
   "source": [
    "对于任意一个复数向量，我们如果想对其进行旋转，那么只需要乘以对应角度的复数即可。这里给出一个简单的证明方法：\n"
   ]
  },
  {
   "cell_type": "markdown",
   "id": "20c43fc7",
   "metadata": {},
   "source": [
    "![003](./003.png)"
   ]
  },
  {
   "cell_type": "markdown",
   "id": "6f0a042c",
   "metadata": {},
   "source": [
    "如上图，如果两个向量的长度分别为 $\\|v\\|=r_{1}$,$\\|u\\|=r_{2}$,令\n",
    "$$\\begin{array}{l}\n",
    "a+b i=r_{1}(\\cos \\alpha+i \\sin \\alpha) \\\\\n",
    "c+d i=r_{2}(\\cos \\beta+i \\sin \\beta)\n",
    "\\end{array}$$"
   ]
  },
  {
   "cell_type": "markdown",
   "id": "d779a388",
   "metadata": {},
   "source": [
    "上式左边相乘，得到：\n",
    "\n",
    "$$(a+b i)(b+c i)=r_{1} r_{2}(\\cos \\alpha+i \\sin \\alpha)(\\cos \\beta+i \\sin \\beta)$$\n",
    "利用和差公式化简右边，可得到： \n",
    "$$(a+b i)(b+c i)=r_{1} r_{2}(\\cos (\\alpha+\\beta)+i \\sin (\\alpha+\\beta))$$\n",
    "\n",
    "这就说明，两个复数相乘，结果就等于旋转半径相乘、旋转角度相加。 "
   ]
  },
  {
   "cell_type": "markdown",
   "id": "fa8424d7",
   "metadata": {},
   "source": [
    "**三，欧拉公式的几何意义：一种旋转运动**"
   ]
  },
  {
   "cell_type": "markdown",
   "id": "fd9c51f5",
   "metadata": {},
   "source": [
    "再引入欧拉公式，根据泰勒公式$$e^{x}=1+x+\\frac{x^{2}}{2 !}+\\ldots+\\frac{x^{n}}{n !}$$\n",
    "用$ix$代替$x$代入上式，得到：\n",
    " $$e^{i x}=1+i x-\\frac{x^{2}}{2 !}-\\frac{i x^{3}}{3 !}+\\frac{x^{4}}{4 !}+\\frac{i x^{5}}{5 !} \\ldots$$\n",
    "把带有虚数项与不带虚数项分开：\n",
    " $$\\begin{array}{l}\n",
    "e^{i x}=1-\\frac{x^{2}}{2 !}+\\frac{x^{4}}{4 !}+\\ldots+(-1)^{n} \\frac{x^{2 n}}{(2 n) !}+ \\\\\n",
    "+i\\left(x-\\frac{x^{3}}{3 !}+\\frac{x^{5}}{5 !}+\\ldots+(-1)^{n-1} \\frac{x^{2 n-1}}{(2 n-1) !}\\right)\n",
    "\\end{array}$$\n",
    "由于正弦的泰勒展开为： \n",
    "$$\\sin x=x-\\frac{x^{3}}{3 !}+\\frac{x^{5}}{5 !}+\\ldots+(-1)^{n-1} \\frac{x^{2 n-1}}{(2 n-1) !}$$\n",
    "余弦泰勒展开为：\n",
    "$$\\cos x=1-\\frac{x^{2}}{2 !}+\\frac{x^{4}}{4 !}+\\ldots+(-1)^{n} \\frac{x^{2 n}}{(2 n) !}$$\n",
    "将上面两个式子带入$e^{i x}$，最终得到： \n",
    "$$e^{i x}=\\cos x+i \\sin x$$\n",
    "\n",
    "那么$e^{i x}$究竟是什么意思呢？答案是它代表着一种旋转运动.\n",
    "\n",
    "我们知道，自然底数$e$的定义是\n",
    "$$e^{x}=\\lim _{n \\rightarrow \\infty}\\left(1+\\frac{x}{n}\\right)^{n}$$ \n",
    "当$x=1$时，就得到了$e$.把这个式子扩展到复数领域，用$e^{i \\theta}$代替$x$，得到：\n",
    "$$e^{i \\theta}=\\lim _{n \\rightarrow \\infty}\\left(1+\\frac{\\theta}{n} i\\right)^{n}$$\n",
    "也就是说，$e^{i \\theta}$相当于$n$个复数向量$\\left(1+\\frac{\\theta}{n} i\\right)$相乘，而上面已经证明了，复数相乘的几何意义就是对这个复数平面向量旋转一定的角度，同时长度进行了一定的伸缩。所以$n$次相乘就代表着将复向量$\\left(1+\\frac{\\theta}{n} i\\right)$进行了$n$次旋转，每次旋转的角度是$\\arctan \\left(\\frac{\\theta}{n}\\right)$.\n",
    "\n",
    "因此，我们一个重要结论：$e^{i \\theta}$的实际几何意义就是副向量绕复平面单位圆做${\\theta}$角度的旋转。如果用时间$t$来替换${\\theta}$，那么$e^{i t}$就意味着在一个单位时间内复向量做了$t$弧度的旋转。"
   ]
  },
  {
   "cell_type": "markdown",
   "id": "e0e3a7e5",
   "metadata": {},
   "source": [
    "值得注意的是，一个复向量绕单位元旋转一周后，最终位置与初始位置一样，这意味着在任何整个周期区间内，对$e^{i x}$积分恒为0： \n",
    "$$\\int_{0}^{2 \\pi} e^{i t} d t=0\\tag{1}$$\n",
    "\n",
    "这个结论在后面能为我们大大简化计算参数系数的计算量。\n",
    "\n"
   ]
  },
  {
   "cell_type": "markdown",
   "id": "b90c1d82",
   "metadata": {},
   "source": [
    "根据上面推导出来的欧拉公式：\n",
    "$$e^{i t}=\\cos t+i \\sin t$$\n",
    "\n",
    "用$-t$替换上面的$t$，两者联立，进一步推导出： \n",
    "\n",
    "$$\\cos t=\\frac{e^{i t}+e^{-i t}}{2}, \\sin t=\\frac{e^{i t}-e^{-i t}}{2 i}$$"
   ]
  },
  {
   "cell_type": "markdown",
   "id": "4b3a36d6",
   "metadata": {},
   "source": [
    "**四，用欧拉公式化简傅里叶级数，窥其本质：**\n"
   ]
  },
  {
   "cell_type": "markdown",
   "id": "0e4bef6b",
   "metadata": {},
   "source": [
    "我们利用上面两个正余弦函数的虚数形式，再化简傅里叶级数：\n",
    "$$\\begin{array}{l}\n",
    "f(t)=\\frac{a_{0}}{2}+\\sum_{n=1}^{\\infty}\\left(a_{n} \\cos \\frac{n \\pi t}{l}+b_{n} \\sin \\frac{n \\pi t}{l}\\right) \\\\\n",
    "=\\frac{a_{0}}{2}+\\sum_{n=1}^{\\infty}\\left[\\frac{a_{n}}{2}\\left(e^{i \\frac{n \\pi t}{l}}+e^{-i \\frac{n \\pi t}{l}}\\right)\\right. \\\\\n",
    "\\left.-\\frac{i b_{n}}{2}\\left(e^{i \\frac{n \\pi t}{l}}-e^{-i \\frac{n \\pi t}{l}}\\right)\\right] \\\\\n",
    "=\\frac{a_{0}}{2}+\\sum_{n=1}^{\\infty}\\left[\\frac{a_{n}-i b_{n}}{2} e^{i \\frac{n \\pi t}{l}}+\\frac{a_{n}+i b_{n}}{2} e^{-i \\frac{n \\pi t}{l}}\\right] \\\\\n",
    "=c_{0}+\\sum_{n=1}^{\\infty}\\left(c_{n} e^{i \\frac{n \\pi t}{l}}+c_{-n} e^{-i \\frac{n \\pi t}{l}}\\right) \\\\\n",
    "=\\sum_{n=-\\infty}^{+\\infty} c_{n} e^{i \\frac{n \\pi t}{l}}\n",
    "\\end{array}$$\n",
    "\n",
    "最终，得到傅里叶级数的复数形式为：  \n",
    "$$f(t)=\\sum_{n=-\\infty}^{+\\infty} c_{n} e^{i \\frac{n \\pi t}{l}}$$\n",
    "\n"
   ]
  },
  {
   "cell_type": "markdown",
   "id": "70aa8633",
   "metadata": {},
   "source": [
    "我们用欧拉公式简化了刚才复杂的公式。根据前面的结论：$e^{i t}$的实际几何意义就是复向量绕圆周做$t$速度的旋转运动，前面的$c_{n}$系数只是决定了其旋转半径以及初始旋转角度。因此，不难看出，傅里叶级数的本质几何意义就是无数个不同半径的复向量以不同速度、不同方向进行旋转然后进行向量叠加的结果。\n",
    "$$c_{n} e^{i \\frac{n \\pi t}{l}}\\left\\{\\begin{array}{ll}\n",
    "c_{n}, & \\text { 决定旋转半径及初始角度 } \\\\\n",
    "e^{i \\frac{n \\pi t}{l}}, & \\text { 决定旋转速度 }\n",
    "\\end{array}\\right.$$"
   ]
  },
  {
   "cell_type": "markdown",
   "id": "3f8da179",
   "metadata": {},
   "source": [
    "这种叠加的结果让人觉得不可思议，因为只要规定合适的参数，它几乎可以拟合出来我们任何想要的曲线。"
   ]
  },
  {
   "cell_type": "markdown",
   "id": "d9cad390",
   "metadata": {},
   "source": [
    "**五，傅立叶动画的制作。**\n",
    "有了上面的知识，我们做傅立叶级数的动画就有思路了。之前通过计算，把上面一连串的$c_{n}$给计算出来，计算的结果就是他们的方向与速度，还有长度，并让它们各自按照自己的圆心旋转即可。但是，这里有两个问题：\n",
    "\n",
    "（1）函数$f(t)$究竟是如何来的？\n",
    "\n",
    "（2）每个复向量前面的系数$c_{n}$又是如何计算出来的？\n",
    "\n",
    "下面分析这两个问题。"
   ]
  },
  {
   "cell_type": "markdown",
   "id": "cad09bb3",
   "metadata": {},
   "source": [
    "**5.1，获取$f(t)$方法：**\n",
    "\n",
    "首先来说$f(t)$是如何来的。注意这里的$f(t)$并不是一组连续的实数，而是一组二维向量的坐标值。我们需要对时间$t$与像素的坐标值$(a, b)$做一一映射，为了方便，我们用复数的形式表示每一个像素点的坐标，也即任意给定一个时间t，都能找到唯一的一个复数坐标与其对应： \n",
    "$$t \\rightarrow(a+b i)=r e^{i \\theta}$$\n",
    "那么究竟如何找出这些像素点坐标的集合呢？为了方便，本次实验绘制字符而不是复杂图像，这里使用了 Tex来读取单个字符的边缘轮廓。"
   ]
  },
  {
   "cell_type": "markdown",
   "id": "3100585c",
   "metadata": {},
   "source": [
    "**5.1，获取$c_{n}$方法：**\n",
    "那么究竟如何计算$c_{n}$的实际值呢？我们往下看：\n",
    "\n",
    "$$\\begin{array}{l}\n",
    "f(t)=\\ldots+c_{-2} e^{i \\frac{-2 \\pi t}{l}}+c_{-1} e^{i \\frac{-1 \\pi t}{l}}+\\\\\n",
    "c_{0}+c_{1} e^{i \\frac{1 \\pi t}{l}}+c_{2} e^{i \\frac{2 \\pi t}{l}} \\ldots\n",
    "\\end{array}\\tag{2}$$\n",
    "\n",
    " 首先我们对其两边取区间为单个$f(t)$周期也即$[0,2l]$的积分：\n",
    " $$\\begin{array}{l}\n",
    "\\int_{0}^{2 l} f(t) d t=\\ldots \\int_{0}^{2 l} c_{-2} e^{i \\frac{-2 \\pi t}{l}}+\\int_{0}^{2 l} c_{-1} e^{i \\frac{-1 \\pi t}{l}}\\\\\n",
    "+\\int_{0}^{2 l} c_{0}+c_{1} e^{i \\frac{1 \\pi t}{l}}+\\int_{0}^{2 l} c_{2} e^{i \\frac{2 \\pi t}{l}} \\ldots\n",
    "\\end{array}\\tag{3}$$ \n",
    "                                                  \n",
    " \n",
    " 根据之前的结论，在一个整周期内，复向量的积分恒为零，也就意味着上式右边出了$c_{0}$那一选项，其余都为零：\n",
    " $$\\begin{array}{c}\n",
    "\\ldots \\int_{0}^{2 l} c_{-2} e^{i \\frac{-2 \\pi t}{l}}=0 ; \\int_{0}^{2 l} c_{-1} e^{i \\frac{-1 \\pi t}{l}}=0 \\\\\n",
    "\\int_{0}^{2 l} c_{1} e^{i \\frac{1 \\pi t}{l}}=0 ; \\int_{0}^{2 l} c_{2} e^{i \\frac{2 \\pi t}{l}}=0 \\ldots\n",
    "\\end{array}$$\n",
    "\n",
    " 所以式(2)又可化简为：\n",
    " $$\\int_{0}^{2 l} f(t) d t=\\int_{0}^{2 l} c_{0}$$ \n",
    "\n",
    "这样便能得出 \n",
    "$$c_{0}=\\frac{1}{2 l} \\int_{0}^{2 l} f(t) d t$$\n",
    "最后，我们求除了$c_{0}$以外的其他参数系数。其实方法也一样，为了求某一项的系数， 我们可以把本项乘以对应指数的负数来消掉本项的指数，然后两边再次积分，例如为了求$c_{2} e^{i \\frac{2 \\pi t}{l}}$本项的$c_{2}$，我们首先对(2)式两边分别乘以$e^{-i \\frac{2 \\pi t}{l}}$：\n",
    "$$\\begin{array}{c}\n",
    "f(t) e^{-i \\frac{2 \\pi t}{l}}=\\ldots+c_{-2} e^{i \\frac{-2 \\pi t}{l}} e^{-i \\frac{2 \\pi t}{l}}+\\ldots \\\\\n",
    "+c_{0} e^{-i \\frac{2 \\pi t}{l}}+c_{2} e^{i \\frac{2 \\pi t}{l}} e^{-i \\frac{2 \\pi t}{l}} \\ldots\n",
    "\\end{array}$$\n",
    "\n",
    "两边再次积分，注意，再根据上面的结论，上式除了$c_{2}$项外，其余全部为0，因此得到： \n",
    "$$ \\int_{0}^{2 l} f(t)e^{-i \\frac{2 \\pi t}{l}}=\\int_{0}^{2 l} c_{2}$$ \n",
    "求得： \n",
    "$$c_{2} = \\frac{1}{2l}\\int_{0}^{2 l} f(t)e^{-i \\frac{2 \\pi t}{l}}dt$$ "
   ]
  },
  {
   "cell_type": "markdown",
   "id": "66dded97",
   "metadata": {},
   "source": [
    "进一步，我们得到：\n",
    "$$c_{n} = \\frac{1}{2l}\\int_{0}^{2 l} f(t)e^{-i \\frac{n \\pi t}{l}}dt\\tag{4}$$ \n",
    "至此，我们已经将所有的系数求出来了。剩下的就是通过代码讲这些计算方法实现，并通过动画模拟出来。\n"
   ]
  },
  {
   "cell_type": "markdown",
   "id": "90619057",
   "metadata": {},
   "source": [
    "**5.3，使用manim库实现傅立叶级数的可视化**"
   ]
  },
  {
   "cell_type": "markdown",
   "id": "78847ae2",
   "metadata": {},
   "source": [
    "我们首先根据上面推导出来的公式，由于$c_{n}$决定了每个复向量的半径大小与初始角度大小，所以必须先计算出来它。而剩下的幂指数部分只是决定了其旋转方向与速度而已，并且指数部分只有一个变量$n$，剩下的都是已知变量，很好计算。等全部计算出来后，将所有圆绘制出来，并根据实际时间$t$来计算他们的实际位置，重新计算并刷新屏幕，就形成了连续的动画。"
   ]
  },
  {
   "cell_type": "markdown",
   "id": "4437b266",
   "metadata": {},
   "source": [
    "代码由两个部分组成：\n",
    "\n",
    "FourierScene类的主要方法有计算傅立叶系数get_fourier_coefs()，定义向量关系get_fourier_vectors()，以及绘制轨迹get_drawn_path()。\n",
    "\n",
    "FourierAnimation类负责动画播放。\n",
    "\n",
    "打个比方，FourierScene类搭建了一个风扇，FourierAnimation类为这个风扇提供电力，让它动起来。\n",
    "由于本实验是基于manim库实现，有些函数与manim的知识强相关，对于这种函数，只是简要介绍功能,不要求深入理解。\n"
   ]
  },
  {
   "cell_type": "markdown",
   "id": "96909f5d",
   "metadata": {
    "vscode": {
     "languageId": "plaintext"
    }
   },
   "source": [
    "**阅读程序，完成以下习题**\n",
    "\n",
    "*习题一 完成get_fourier_coefs( )代码填空*\n",
    "\n",
    "*习题二 完成fourier_series_func( )代码填空*\n",
    "\n",
    "*习题三 选一个你喜欢的字母或者数字(但提交示例已经使用的“x”不能再用)，分别生成n_vectors是10，100，1000的视频*\n"
   ]
  },
  {
   "cell_type": "code",
   "execution_count": null,
   "id": "1e654654",
   "metadata": {
    "vscode": {
     "languageId": "plaintext"
    }
   },
   "outputs": [],
   "source": [
    "# 测试manim是否正确安装\n",
    "from manim import *"
   ]
  },
  {
   "cell_type": "code",
   "execution_count": null,
   "id": "b2b0154d",
   "metadata": {
    "vscode": {
     "languageId": "plaintext"
    }
   },
   "outputs": [],
   "source": [
    "%%manim -ql --disable_caching -v WARNING FourierAnimation\n",
    "from manim import *\n",
    "import numpy as np\n",
    "\n",
    "\n",
    "class FourierScene(ZoomedScene):\n",
    "    '''\n",
    "    方法名:__init__\n",
    "    输入参数：无\n",
    "    返回：无\n",
    "    介绍：__init__()定义了需要的变量。这里比较重要的变量是freqs，也就是公式(4)里的n。\n",
    "         用freqs来储存Cn下标n的值。方便后面做积分运算。在这里要特别注意， freq的值严格按照[0,-1,1,-2,2...]进行排列，并且不可交换。\n",
    "    '''\n",
    "    def __init__(self,**kwargs):\n",
    "        super().__init__()\n",
    "        # 傅立叶参数\n",
    "        self.n_vectors = 100\n",
    "        self.freqs = list(range(-self.n_vectors // 2, self.n_vectors // 2 + 1, 1))\n",
    "        self.freqs.sort(key=abs)  # freqs排序后的格式[0, -1, 1, -2, 2, ...]\n",
    "\n",
    "        # manim参数         \n",
    "        self.vector_config = {\n",
    "            \"buff\": 0,\n",
    "            \"max_tip_length_to_length_ratio\": 0.25,\n",
    "            \"tip_length\": 0.15,\n",
    "            \"max_stroke_width_to_length_ratio\": 10,\n",
    "            \"stroke_width\": 1.4\n",
    "        }\n",
    "        self.circle_config = {\n",
    "            \"stroke_width\": 1,\n",
    "            \"stroke_opacity\": 0.3,\n",
    "            \"color\": WHITE\n",
    "        }\n",
    "        self.cycle_time = 3 # 3秒\n",
    "        self.parametric_func_step = 1e-3  \n",
    "        self.drawn_path_stroke_width = 5\n",
    "        self.interpolate_config = [0, 1] \n",
    "        self.path_n_samples = 1e3\n",
    "\n",
    "    '''\n",
    "    方法名:get_fourier_coefs\n",
    "    输入参数：字符轨迹 path\n",
    "    返回：傅立叶系数coefficients\n",
    "    介绍：计算公式(4)的结果Cn。\n",
    "\n",
    "    '''\n",
    "    \n",
    "    def get_fourier_coefs(self, path):\n",
    "        dt = 1 / self.path_n_samples\n",
    "        t_range = np.arange(0, 1, dt)\n",
    "    \n",
    "        # 上面我们给出的函数周期为2l，显然我们这里整个轮廓坐标要形成一个闭环，如果我们每次让\n",
    "        # t偏移一个单位，这样我们实际的周期应该为轮廓数据集数组的长度len(t_range)。轮廓的横纵坐标保存在points里面。\n",
    "\n",
    "        # points 存了虚部和实部\n",
    "        # point_from_proportion的作用:根据t等比例划分path，返回坐标点\n",
    "        points = np.array([\n",
    "            path.point_from_proportion(t) \n",
    "            for t in t_range\n",
    "        ])\n",
    "        \n",
    "        # complex_points：轨迹的复平面坐标\n",
    "        complex_points = points[:, 0] + 1j * points[:, 1]\n",
    "      \n",
    "        # 习题一 按照公式(4)填补空缺代码 提示：要使用圆的周长与其半径的比值，可以直接用TAU表示，这在manim里是允许的\n",
    "        coefficients = [\n",
    "            np.sum(np.array([\n",
    "                ##此处需要将括号内填写完整##\n",
    "                c_point * np.exp(-TAU*(          )) * dt \n",
    "\n",
    "                for t, c_point in zip(t_range, complex_points)\n",
    "                ]))\n",
    "            for freq in self.freqs \n",
    "        ]\n",
    "        return coefficients\n",
    "    \n",
    "    '''\n",
    "    方法:setup、start_vector_clock、stop_vector_clock\n",
    "    输入参数：无\n",
    "    返回：无\n",
    "    介绍：让向量不断更新，与manim相关，不作介绍。\n",
    "    '''\n",
    "    def setup(self):                     \n",
    "        super().setup()\n",
    "        self.vector_clock = ValueTracker()\n",
    "        self.slow_factor_tracker = ValueTracker(0)\n",
    "        self.add(self.vector_clock)\n",
    "\n",
    "    def start_vector_clock(self):           # 更新Vector_lock，使其遵循add_updater的参数dt\n",
    "        self.vector_clock.add_updater(\n",
    "            lambda t, dt: t.increment_value(dt * self.slow_factor_tracker.get_value() / self.cycle_time)\n",
    "        )\n",
    "\n",
    "    def stop_vector_clock(self):\n",
    "        self.vector_clock.remove_updater(self.start_vector_clock)\n",
    "\n",
    "    '''\n",
    "    方法:get_fourier_vectors\n",
    "    输入参数：字符轨迹path \n",
    "    返回：向量vectors\n",
    "    介绍： 根据path返回一系列向量，设置向量转动的角度，并将向量连接起来。\n",
    "    '''\n",
    "    def get_fourier_vectors(self, path):\n",
    "      # Fourier coefficient \n",
    "        coefficients = self.get_fourier_coefs(path)\n",
    "        vectors = VGroup()\n",
    "        v_is_first_vector = True\n",
    "        for coef, freq in zip(coefficients,self.freqs):\n",
    "            v = Vector([np.real(coef), np.imag(coef)], **self.vector_config)\n",
    "            # 中心定位在最后一个向量的末端\n",
    "            if v_is_first_vector:\n",
    "                center_func = VectorizedPoint(ORIGIN).get_location\n",
    "                v_is_first_vector = False\n",
    "            else:\n",
    "                center_func = last_v.get_end\n",
    "            v.center_func = center_func\n",
    "            last_v = v\n",
    "            v.freq = freq\n",
    "            v.coef = coef\n",
    "            v.phase = np.angle(coef)\n",
    "            v.shift(v.center_func()-v.get_start())\n",
    "            v.set_angle(v.phase)\n",
    "            vectors.add(v)\n",
    "        return vectors\n",
    "\n",
    "    '''\n",
    "    方法:get_circles\n",
    "    输入参数：向量vectors \n",
    "    返回：圆circles\n",
    "    介绍： 根据向量vectors返回一系列圆circles，设置每个圆心是对应向量的起点。\n",
    "    '''\n",
    "    def get_circles(self, vectors):                         \n",
    "        circles = VGroup()\n",
    "        for v in vectors:\n",
    "            c = Circle(radius = v.get_length(), **self.circle_config)\n",
    "            c.center_func = v.get_start\n",
    "            c.move_to(c.center_func())\n",
    "            circles.add(c)\n",
    "        return circles\n",
    "\n",
    "    '''\n",
    "    方法:update_vectors\n",
    "    输入参数：向量vectors \n",
    "    返回：无\n",
    "    介绍： 保持向量的位置和角度的更新。\n",
    "    '''\n",
    "    def update_vectors(self, vectors):\n",
    "            for v in vectors:\n",
    "                time = self.vector_clock.get_value()\n",
    "                v.shift(v.center_func()-v.get_start())\n",
    "                v.set_angle(v.phase + time * v.freq * TAU) \n",
    "    '''\n",
    "    方法:update_circles\n",
    "    输入参数：向量circles \n",
    "    返回：无\n",
    "    介绍： 保持圆的位置更新。\n",
    "    '''\n",
    "    def update_circles(self, circles):\n",
    "        for c in circles:\n",
    "            c.move_to(c.center_func())\n",
    "    '''\n",
    "    方法:update_path\n",
    "    输入参数：轨迹broken_path\n",
    "    返回：无\n",
    "    介绍： 更新轨迹\n",
    "    '''\n",
    "    def update_path(self, broken_path):\n",
    "        alpha = self.vector_clock.get_value()\n",
    "        n_curves = len(broken_path)\n",
    "        alpha_range = np.linspace(0, 1, n_curves)\n",
    "        for a, subpath in zip(alpha_range, broken_path):\n",
    "            b = (alpha - a)\n",
    "            width = 0\n",
    "            if b < 0:\n",
    "                width = 0\n",
    "            else:\n",
    "                width = self.drawn_path_stroke_width * interpolate(broken_path.start_width, broken_path.end_width, (1 - (b % 1)))   # % is b modulo 1, returns the value of b wrapped around 1, so that path width resets after one cycle\n",
    "            subpath.set_stroke(width=width)\n",
    "\n",
    "\n",
    "\n",
    "    def get_drawn_path(self, vectors):    \n",
    "        '''\n",
    "        方法:fourier_series_func\n",
    "        输入参数：单位间隔t\n",
    "        返回：在坐标系里的位置real_fss\n",
    "        介绍： 计算傅立叶级数每一个点的坐标\n",
    "        '''\n",
    "        def fourier_series_func(t):\n",
    "            # 习题二 按照傅里叶级数的复数形式,填补括号里的空缺代码 \n",
    "            fss = np.sum(np.array([\n",
    "                ##此处需要将括号内填写完整##\n",
    "                v.coef * np.exp(TAU * (        ))\n",
    "                ##此处需要将括号内填写完整##\n",
    "                for ( ) in ( )\n",
    "            ]))\n",
    "\n",
    "            real_fss = np.array([np.real(fss), np.imag(fss), 0])\n",
    "            return real_fss\n",
    "        \n",
    "        # 设置轨迹的动画效果\n",
    "        t_range = np.array([0, 1, self.parametric_func_step])\n",
    "        vector_sum_path = ParametricFunction(fourier_series_func, t_range = t_range)\n",
    "        broken_path = CurvesAsSubmobjects(vector_sum_path)\n",
    "        broken_path.stroke_width = 0\n",
    "        broken_path.start_width = self.interpolate_config[0]\n",
    "        broken_path.end_width = self.interpolate_config[1]\n",
    "        return broken_path\n",
    "\n",
    "\n",
    "\n",
    "class FourierAnimation(FourierScene):\n",
    "    '''\n",
    "    方法:__init__\n",
    "    输入参数：**kwargs，用于在jupyter notebook里传输manim渲染器，不用了解\n",
    "    返回：无\n",
    "    介绍： 定义动画的绘制参数\n",
    "    '''\n",
    "    def __init__(self, **kwargs):\n",
    "        super().__init__()\n",
    "        self.fourier_symbol_config = {\n",
    "            \"stroke_width\": 1,\n",
    "            \"fill_opacity\": 1,\n",
    "            \"height\": 4,\n",
    "        }\n",
    "        self.vector_config = {\n",
    "            \"buff\": 0,\n",
    "            \"max_tip_length_to_length_ratio\": 0.25,\n",
    "            \"tip_length\": 0.15,\n",
    "            \"max_stroke_width_to_length_ratio\": 10,\n",
    "            \"stroke_width\": 1.4\n",
    "        }\n",
    "        self.circle_config = {\n",
    "            \"stroke_width\": 1,\n",
    "            \"stroke_opacity\": 0.3,\n",
    "            \"color\": WHITE\n",
    "        }\n",
    "        self.cycle_time = 5     # cycle_time的单位是秒，这里代表5秒            \n",
    "        self.drawn_path_stroke_width = 3\n",
    "\n",
    "    '''\n",
    "    方法:construct\n",
    "    输入参数：无\n",
    "    返回：无\n",
    "    介绍： 定义动画的播放顺序，会用到的是TEX()方法，可以选择想绘制的字符\n",
    "    '''\n",
    "    def construct(self):\n",
    "        # Tex()方法可以选择想要的字符\n",
    "        symbol1 = Tex(\"X\", **self.fourier_symbol_config).set_color(RED)\n",
    "        group = VGroup(symbol1).arrange(RIGHT)\n",
    "        path1 = symbol1.family_members_with_points()[0]     \n",
    "        vectors1 = self.get_fourier_vectors(path1)\n",
    "        circles1 = self.get_circles(vectors1)\n",
    "        drawn_path1 = self.get_drawn_path(vectors1).set_color(RED)\n",
    "        all_mobs = VGroup(group)\n",
    "        self.add( \n",
    "            vectors1,\n",
    "            circles1,\n",
    "            drawn_path1.set_stroke(width=0),\n",
    "        )\n",
    "        vectors1.add_updater(self.update_vectors)\n",
    "        circles1.add_updater(self.update_circles)\n",
    "        drawn_path1.add_updater(self.update_path)\n",
    "        self.start_vector_clock()\n",
    "        self.play(self.slow_factor_tracker.animate.set_value(1), run_time = 4*self.cycle_time)\n",
    "        self.stop_vector_clock()"
   ]
  }
 ],
 "metadata": {
  "kernelspec": {
   "display_name": "Python 3 (ipykernel)",
   "language": "python",
   "name": "python3"
  },
  "language_info": {
   "codemirror_mode": {
    "name": "ipython",
    "version": 3
   },
   "file_extension": ".py",
   "mimetype": "text/x-python",
   "name": "python",
   "nbconvert_exporter": "python",
   "pygments_lexer": "ipython3",
   "version": "3.7.13"
  }
 },
 "nbformat": 4,
 "nbformat_minor": 5
}
